{
  "nbformat": 4,
  "nbformat_minor": 0,
  "metadata": {
    "colab": {
      "provenance": [],
      "collapsed_sections": []
    },
    "kernelspec": {
      "name": "python3",
      "display_name": "Python 3"
    },
    "language_info": {
      "name": "python"
    }
  },
  "cells": [
    {
      "cell_type": "code",
      "execution_count": null,
      "metadata": {
        "colab": {
          "base_uri": "https://localhost:8080/"
        },
        "id": "N9eFjVQm6djN",
        "outputId": "af6157d7-b952-44f6-b6d6-b0297053b4b1"
      },
      "outputs": [
        {
          "output_type": "stream",
          "name": "stdout",
          "text": [
            "Mounted at /content/drive\n"
          ]
        }
      ],
      "source": [
        "from google.colab import drive\n",
        "drive.mount('/content/drive')"
      ]
    },
    {
      "cell_type": "code",
      "source": [
        "import math\n",
        "import statistics as stats\n",
        "import numpy as np\n",
        "import scipy.stats\n",
        "import pandas as pd\n",
        "from statsmodels.stats import weightstats as stests\n",
        "from scipy.stats import norm\n",
        "import matplotlib.pyplot as plt\n",
        "import statsmodels.api as sm\n",
        "import statsmodels.graphics.gofplots as sm\n",
        "from statsmodels.stats.weightstats import ztest as ztest\n",
        "from statsmodels.formula.api import ols\n",
        "from scipy.stats import f_oneway\n",
        "import statsmodels.api as sm"
      ],
      "metadata": {
        "id": "Sk9yyEZP9Jsk"
      },
      "execution_count": null,
      "outputs": []
    },
    {
      "cell_type": "markdown",
      "source": [
        "Chapter 4: Q4.35"
      ],
      "metadata": {
        "id": "Mqzcz9IS3uqC"
      }
    },
    {
      "cell_type": "code",
      "source": [
        "data = pd.read_csv('drive/My Drive/Colab/4e4.csv', sep=',', na_values=\".\")\n",
        "data"
      ],
      "metadata": {
        "colab": {
          "base_uri": "https://localhost:8080/",
          "height": 238
        },
        "id": "jviv2KDu_Ws5",
        "outputId": "936880f1-a9b9-4530-ff2d-01e0c6a0ed24"
      },
      "execution_count": null,
      "outputs": [
        {
          "output_type": "execute_result",
          "data": {
            "text/plain": [
              "   Obs  SCCM125  SCCM160  SCCM200\n",
              "0    1      2.7      4.6      4.6\n",
              "1    2      2.6      4.9      2.9\n",
              "2    3      4.6      5.0      3.4\n",
              "3    4      3.2      4.2      3.5\n",
              "4    5      3.0      3.6      4.1\n",
              "5    6      3.8      4.2      5.1"
            ],
            "text/html": [
              "\n",
              "  <div id=\"df-263364d0-9918-4341-b68a-7d62f27f653c\">\n",
              "    <div class=\"colab-df-container\">\n",
              "      <div>\n",
              "<style scoped>\n",
              "    .dataframe tbody tr th:only-of-type {\n",
              "        vertical-align: middle;\n",
              "    }\n",
              "\n",
              "    .dataframe tbody tr th {\n",
              "        vertical-align: top;\n",
              "    }\n",
              "\n",
              "    .dataframe thead th {\n",
              "        text-align: right;\n",
              "    }\n",
              "</style>\n",
              "<table border=\"1\" class=\"dataframe\">\n",
              "  <thead>\n",
              "    <tr style=\"text-align: right;\">\n",
              "      <th></th>\n",
              "      <th>Obs</th>\n",
              "      <th>SCCM125</th>\n",
              "      <th>SCCM160</th>\n",
              "      <th>SCCM200</th>\n",
              "    </tr>\n",
              "  </thead>\n",
              "  <tbody>\n",
              "    <tr>\n",
              "      <th>0</th>\n",
              "      <td>1</td>\n",
              "      <td>2.7</td>\n",
              "      <td>4.6</td>\n",
              "      <td>4.6</td>\n",
              "    </tr>\n",
              "    <tr>\n",
              "      <th>1</th>\n",
              "      <td>2</td>\n",
              "      <td>2.6</td>\n",
              "      <td>4.9</td>\n",
              "      <td>2.9</td>\n",
              "    </tr>\n",
              "    <tr>\n",
              "      <th>2</th>\n",
              "      <td>3</td>\n",
              "      <td>4.6</td>\n",
              "      <td>5.0</td>\n",
              "      <td>3.4</td>\n",
              "    </tr>\n",
              "    <tr>\n",
              "      <th>3</th>\n",
              "      <td>4</td>\n",
              "      <td>3.2</td>\n",
              "      <td>4.2</td>\n",
              "      <td>3.5</td>\n",
              "    </tr>\n",
              "    <tr>\n",
              "      <th>4</th>\n",
              "      <td>5</td>\n",
              "      <td>3.0</td>\n",
              "      <td>3.6</td>\n",
              "      <td>4.1</td>\n",
              "    </tr>\n",
              "    <tr>\n",
              "      <th>5</th>\n",
              "      <td>6</td>\n",
              "      <td>3.8</td>\n",
              "      <td>4.2</td>\n",
              "      <td>5.1</td>\n",
              "    </tr>\n",
              "  </tbody>\n",
              "</table>\n",
              "</div>\n",
              "      <button class=\"colab-df-convert\" onclick=\"convertToInteractive('df-263364d0-9918-4341-b68a-7d62f27f653c')\"\n",
              "              title=\"Convert this dataframe to an interactive table.\"\n",
              "              style=\"display:none;\">\n",
              "        \n",
              "  <svg xmlns=\"http://www.w3.org/2000/svg\" height=\"24px\"viewBox=\"0 0 24 24\"\n",
              "       width=\"24px\">\n",
              "    <path d=\"M0 0h24v24H0V0z\" fill=\"none\"/>\n",
              "    <path d=\"M18.56 5.44l.94 2.06.94-2.06 2.06-.94-2.06-.94-.94-2.06-.94 2.06-2.06.94zm-11 1L8.5 8.5l.94-2.06 2.06-.94-2.06-.94L8.5 2.5l-.94 2.06-2.06.94zm10 10l.94 2.06.94-2.06 2.06-.94-2.06-.94-.94-2.06-.94 2.06-2.06.94z\"/><path d=\"M17.41 7.96l-1.37-1.37c-.4-.4-.92-.59-1.43-.59-.52 0-1.04.2-1.43.59L10.3 9.45l-7.72 7.72c-.78.78-.78 2.05 0 2.83L4 21.41c.39.39.9.59 1.41.59.51 0 1.02-.2 1.41-.59l7.78-7.78 2.81-2.81c.8-.78.8-2.07 0-2.86zM5.41 20L4 18.59l7.72-7.72 1.47 1.35L5.41 20z\"/>\n",
              "  </svg>\n",
              "      </button>\n",
              "      \n",
              "  <style>\n",
              "    .colab-df-container {\n",
              "      display:flex;\n",
              "      flex-wrap:wrap;\n",
              "      gap: 12px;\n",
              "    }\n",
              "\n",
              "    .colab-df-convert {\n",
              "      background-color: #E8F0FE;\n",
              "      border: none;\n",
              "      border-radius: 50%;\n",
              "      cursor: pointer;\n",
              "      display: none;\n",
              "      fill: #1967D2;\n",
              "      height: 32px;\n",
              "      padding: 0 0 0 0;\n",
              "      width: 32px;\n",
              "    }\n",
              "\n",
              "    .colab-df-convert:hover {\n",
              "      background-color: #E2EBFA;\n",
              "      box-shadow: 0px 1px 2px rgba(60, 64, 67, 0.3), 0px 1px 3px 1px rgba(60, 64, 67, 0.15);\n",
              "      fill: #174EA6;\n",
              "    }\n",
              "\n",
              "    [theme=dark] .colab-df-convert {\n",
              "      background-color: #3B4455;\n",
              "      fill: #D2E3FC;\n",
              "    }\n",
              "\n",
              "    [theme=dark] .colab-df-convert:hover {\n",
              "      background-color: #434B5C;\n",
              "      box-shadow: 0px 1px 3px 1px rgba(0, 0, 0, 0.15);\n",
              "      filter: drop-shadow(0px 1px 2px rgba(0, 0, 0, 0.3));\n",
              "      fill: #FFFFFF;\n",
              "    }\n",
              "  </style>\n",
              "\n",
              "      <script>\n",
              "        const buttonEl =\n",
              "          document.querySelector('#df-263364d0-9918-4341-b68a-7d62f27f653c button.colab-df-convert');\n",
              "        buttonEl.style.display =\n",
              "          google.colab.kernel.accessAllowed ? 'block' : 'none';\n",
              "\n",
              "        async function convertToInteractive(key) {\n",
              "          const element = document.querySelector('#df-263364d0-9918-4341-b68a-7d62f27f653c');\n",
              "          const dataTable =\n",
              "            await google.colab.kernel.invokeFunction('convertToInteractive',\n",
              "                                                     [key], {});\n",
              "          if (!dataTable) return;\n",
              "\n",
              "          const docLinkHtml = 'Like what you see? Visit the ' +\n",
              "            '<a target=\"_blank\" href=https://colab.research.google.com/notebooks/data_table.ipynb>data table notebook</a>'\n",
              "            + ' to learn more about interactive tables.';\n",
              "          element.innerHTML = '';\n",
              "          dataTable['output_type'] = 'display_data';\n",
              "          await google.colab.output.renderOutput(dataTable, element);\n",
              "          const docLink = document.createElement('div');\n",
              "          docLink.innerHTML = docLinkHtml;\n",
              "          element.appendChild(docLink);\n",
              "        }\n",
              "      </script>\n",
              "    </div>\n",
              "  </div>\n",
              "  "
            ]
          },
          "metadata": {},
          "execution_count": 5
        }
      ]
    },
    {
      "cell_type": "markdown",
      "source": [
        "a) Does flow rate affect each uniformity?\n",
        "Answer using an analysis variance with alpha = 0.05"
      ],
      "metadata": {
        "id": "3Pj7E0wy_RnU"
      }
    },
    {
      "cell_type": "code",
      "source": [
        "stat, p = f_oneway(data['SCCM125'], data['SCCM160'], data['SCCM200'])\n",
        "print('stat=%.3f, p=%.3f' %(stat, p))"
      ],
      "metadata": {
        "colab": {
          "base_uri": "https://localhost:8080/"
        },
        "id": "_88K3Iqa_fbx",
        "outputId": "82a1ff90-34cc-44f6-c1b7-f94727dd79f2"
      },
      "execution_count": null,
      "outputs": [
        {
          "output_type": "stream",
          "name": "stdout",
          "text": [
            "stat=3.586, p=0.053\n"
          ]
        }
      ]
    },
    {
      "cell_type": "markdown",
      "source": [
        "With a 95 confidence level the p value fails to meet it. Therefore we can determine that at least one of the SCCM does not flow. We cannot reject the null hypothesis."
      ],
      "metadata": {
        "id": "_vaiXPfqAdsP"
      }
    },
    {
      "cell_type": "markdown",
      "source": [
        "b) Construct a box plot"
      ],
      "metadata": {
        "id": "HFpcOryZCZcN"
      }
    },
    {
      "cell_type": "code",
      "source": [
        "data.boxplot()"
      ],
      "metadata": {
        "colab": {
          "base_uri": "https://localhost:8080/",
          "height": 282
        },
        "id": "qGuWJqgSCdYg",
        "outputId": "7d5d010e-148e-4e95-b900-3d69b61c44a9"
      },
      "execution_count": null,
      "outputs": [
        {
          "output_type": "execute_result",
          "data": {
            "text/plain": [
              "<matplotlib.axes._subplots.AxesSubplot at 0x7fc98f830c50>"
            ]
          },
          "metadata": {},
          "execution_count": 11
        },
        {
          "output_type": "display_data",
          "data": {
            "text/plain": [
              "<Figure size 432x288 with 1 Axes>"
            ],
            "image/png": "[encoded data removed]"
          },
          "metadata": {
            "needs_background": "light"
          }
        }
      ]
    },
    {
      "cell_type": "markdown",
      "source": [
        "Looking at the box plot we can ignore the observation box as that is not we are going to be looking at. We can see that the best option is SCCM160 due to the fact that it is smaller and provides more consistent data for us."
      ],
      "metadata": {
        "id": "SxjTNNPWDBNF"
      }
    },
    {
      "cell_type": "markdown",
      "source": [
        "c) Plot residual versus predicted flow."
      ],
      "metadata": {
        "id": "kduuVpAaDf-m"
      }
    },
    {
      "cell_type": "code",
      "source": [
        "linear_model = ols('SCCM125 ~ SCCM160 + SCCM200',data=data).fit()\n",
        "print(linear_model.summary())"
      ],
      "metadata": {
        "colab": {
          "base_uri": "https://localhost:8080/"
        },
        "id": "DHBXoI0dDobI",
        "outputId": "99f2c055-226f-4511-8609-6231962ff56a"
      },
      "execution_count": null,
      "outputs": [
        {
          "output_type": "stream",
          "name": "stdout",
          "text": [
            "                            OLS Regression Results                            \n",
            "==============================================================================\n",
            "Dep. Variable:                SCCM125   R-squared:                       0.094\n",
            "Model:                            OLS   Adj. R-squared:                 -0.510\n",
            "Method:                 Least Squares   F-statistic:                    0.1553\n",
            "Date:                Fri, 23 Sep 2022   Prob (F-statistic):              0.863\n",
            "Time:                        02:43:48   Log-Likelihood:                -6.0249\n",
            "No. Observations:                   6   AIC:                             18.05\n",
            "Df Residuals:                       3   BIC:                             17.43\n",
            "Df Model:                           2                                         \n",
            "Covariance Type:            nonrobust                                         \n",
            "==============================================================================\n",
            "                 coef    std err          t      P>|t|      [0.025      0.975]\n",
            "------------------------------------------------------------------------------\n",
            "Intercept      0.3572      5.395      0.066      0.951     -16.813      17.528\n",
            "SCCM160        0.4887      0.898      0.544      0.624      -2.369       3.347\n",
            "SCCM200        0.2037      0.572      0.356      0.745      -1.617       2.024\n",
            "==============================================================================\n",
            "Omnibus:                          nan   Durbin-Watson:                   1.751\n",
            "Prob(Omnibus):                    nan   Jarque-Bera (JB):                0.285\n",
            "Skew:                           0.228   Prob(JB):                        0.867\n",
            "Kurtosis:                       2.035   Cond. No.                         86.4\n",
            "==============================================================================\n",
            "\n",
            "Notes:\n",
            "[1] Standard Errors assume that the covariance matrix of the errors is correctly specified.\n"
          ]
        },
        {
          "output_type": "stream",
          "name": "stderr",
          "text": [
            "/usr/local/lib/python3.7/dist-packages/statsmodels/stats/stattools.py:75: ValueWarning: omni_normtest is not valid with less than 8 observations; 6 samples were given.\n",
            "  \"samples were given.\" % int(n), ValueWarning)\n"
          ]
        }
      ]
    },
    {
      "cell_type": "markdown",
      "source": [
        "d) Based on the box plots the normality assumption seems reasonable as there isn't too many outliears and the mean line is close to symetric of the box plot."
      ],
      "metadata": {
        "id": "zzaVBSA8PSTV"
      }
    },
    {
      "cell_type": "markdown",
      "source": [
        "HW Chapter 4: Q4.36"
      ],
      "metadata": {
        "id": "NiZQSHx6Pihe"
      }
    },
    {
      "cell_type": "markdown",
      "source": [
        "Yes, there is 3 such defects with the random sample."
      ],
      "metadata": {
        "id": "g36EkOnAPm_A"
      }
    },
    {
      "cell_type": "markdown",
      "source": [
        "Chapter 4 Q4.53\n",
        "\n",
        "Test of mu = 30 vs not = 30\n",
        "Assumed standard deviation = 1.3\n",
        "N = 15\n",
        "Mean = 31.400\n",
        "SE Mean = 0.336\n",
        "95% CI = (30.742, 32.058)\n",
        "Z = ?\n",
        "P = ?"
      ],
      "metadata": {
        "id": "VX2ZNELA2L9x"
      }
    },
    {
      "cell_type": "markdown",
      "source": [],
      "metadata": {
        "id": "WXnulJfB3GVF"
      }
    },
    {
      "cell_type": "markdown",
      "source": [
        "a)\n",
        "t test formula = (x-mu)/(standardeviation/(sqrt(n)))\n",
        "(30-31.4)/(1.3/(sqrt(15))) = -4.17\n",
        "\n",
        "Using the percentage points of the t distribution chart in the textbook. I found the nearest number to our t value to be 4.14. This gives us a P value of 0.0005, since it is two sided the value is 0.0005*2 = .001\n",
        "\n",
        "With the calculated P value we can determine that we can reject the hypothesis. Meaning the mu equal to 30 is false. "
      ],
      "metadata": {
        "id": "KTrFVl-6-oQD"
      }
    },
    {
      "cell_type": "markdown",
      "source": [
        "b) Since we can get a number that is either below or above 30 we can determine that this needs a two sided test."
      ],
      "metadata": {
        "id": "_kT6-GSvIzBN"
      }
    },
    {
      "cell_type": "markdown",
      "source": [
        "c) Formula is z+-(Stasndard deviation)/(sqrt(n))\n",
        "from 30 +- 1.399696181\n",
        "\n",
        "Confidence interval = (28.60030382, 31.39969618)"
      ],
      "metadata": {
        "id": "Sh5dq4gFM2Ej"
      }
    },
    {
      "cell_type": "markdown",
      "source": [
        "d) (standard deviation)/(square root of sample size) \n",
        "\n",
        "1.3/(square root(15)) = 0.336"
      ],
      "metadata": {
        "id": "DqqrhvlFPk0_"
      }
    },
    {
      "cell_type": "markdown",
      "source": [
        "e) You would bring the P value back to one sided therefore:\n",
        "\n",
        ".001/2 = 0.0005\n"
      ],
      "metadata": {
        "id": "3Rtmw3qNQOvc"
      }
    },
    {
      "cell_type": "markdown",
      "source": [
        "Chapter 4 Q4.47:"
      ],
      "metadata": {
        "id": "wFaDojNryoA3"
      }
    },
    {
      "cell_type": "code",
      "source": [
        "data3 = pd.read_csv('drive/My Drive/Colab/4e10.csv', sep=',', na_values=\".\")\n",
        "data3"
      ],
      "metadata": {
        "colab": {
          "base_uri": "https://localhost:8080/",
          "height": 426
        },
        "id": "Uumfa8w_ywzq",
        "outputId": "27ba3807-aaa4-48a5-9031-77682cbdcd1e"
      },
      "execution_count": null,
      "outputs": [
        {
          "output_type": "execute_result",
          "data": {
            "text/plain": [
              "    BrakeHorsepower   RPM  RoadOctaneNumber  Compression\n",
              "0               225  2000                90          100\n",
              "1               212  1800                94           95\n",
              "2               229  2400                88          110\n",
              "3               222  1900                91           96\n",
              "4               219  1600                86          100\n",
              "5               278  2500                96          110\n",
              "6               246  3000                94           98\n",
              "7               237  3200                90          100\n",
              "8               233  2800                88          105\n",
              "9               224  3400                86           97\n",
              "10              223  1800                90          100\n",
              "11              230  2500                89          104"
            ],
            "text/html": [
              "\n",
              "  <div id=\"df-3a99d079-ff52-4075-824a-19d7d4b33315\">\n",
              "    <div class=\"colab-df-container\">\n",
              "      <div>\n",
              "<style scoped>\n",
              "    .dataframe tbody tr th:only-of-type {\n",
              "        vertical-align: middle;\n",
              "    }\n",
              "\n",
              "    .dataframe tbody tr th {\n",
              "        vertical-align: top;\n",
              "    }\n",
              "\n",
              "    .dataframe thead th {\n",
              "        text-align: right;\n",
              "    }\n",
              "</style>\n",
              "<table border=\"1\" class=\"dataframe\">\n",
              "  <thead>\n",
              "    <tr style=\"text-align: right;\">\n",
              "      <th></th>\n",
              "      <th>BrakeHorsepower</th>\n",
              "      <th>RPM</th>\n",
              "      <th>RoadOctaneNumber</th>\n",
              "      <th>Compression</th>\n",
              "    </tr>\n",
              "  </thead>\n",
              "  <tbody>\n",
              "    <tr>\n",
              "      <th>0</th>\n",
              "      <td>225</td>\n",
              "      <td>2000</td>\n",
              "      <td>90</td>\n",
              "      <td>100</td>\n",
              "    </tr>\n",
              "    <tr>\n",
              "      <th>1</th>\n",
              "      <td>212</td>\n",
              "      <td>1800</td>\n",
              "      <td>94</td>\n",
              "      <td>95</td>\n",
              "    </tr>\n",
              "    <tr>\n",
              "      <th>2</th>\n",
              "      <td>229</td>\n",
              "      <td>2400</td>\n",
              "      <td>88</td>\n",
              "      <td>110</td>\n",
              "    </tr>\n",
              "    <tr>\n",
              "      <th>3</th>\n",
              "      <td>222</td>\n",
              "      <td>1900</td>\n",
              "      <td>91</td>\n",
              "      <td>96</td>\n",
              "    </tr>\n",
              "    <tr>\n",
              "      <th>4</th>\n",
              "      <td>219</td>\n",
              "      <td>1600</td>\n",
              "      <td>86</td>\n",
              "      <td>100</td>\n",
              "    </tr>\n",
              "    <tr>\n",
              "      <th>5</th>\n",
              "      <td>278</td>\n",
              "      <td>2500</td>\n",
              "      <td>96</td>\n",
              "      <td>110</td>\n",
              "    </tr>\n",
              "    <tr>\n",
              "      <th>6</th>\n",
              "      <td>246</td>\n",
              "      <td>3000</td>\n",
              "      <td>94</td>\n",
              "      <td>98</td>\n",
              "    </tr>\n",
              "    <tr>\n",
              "      <th>7</th>\n",
              "      <td>237</td>\n",
              "      <td>3200</td>\n",
              "      <td>90</td>\n",
              "      <td>100</td>\n",
              "    </tr>\n",
              "    <tr>\n",
              "      <th>8</th>\n",
              "      <td>233</td>\n",
              "      <td>2800</td>\n",
              "      <td>88</td>\n",
              "      <td>105</td>\n",
              "    </tr>\n",
              "    <tr>\n",
              "      <th>9</th>\n",
              "      <td>224</td>\n",
              "      <td>3400</td>\n",
              "      <td>86</td>\n",
              "      <td>97</td>\n",
              "    </tr>\n",
              "    <tr>\n",
              "      <th>10</th>\n",
              "      <td>223</td>\n",
              "      <td>1800</td>\n",
              "      <td>90</td>\n",
              "      <td>100</td>\n",
              "    </tr>\n",
              "    <tr>\n",
              "      <th>11</th>\n",
              "      <td>230</td>\n",
              "      <td>2500</td>\n",
              "      <td>89</td>\n",
              "      <td>104</td>\n",
              "    </tr>\n",
              "  </tbody>\n",
              "</table>\n",
              "</div>\n",
              "      <button class=\"colab-df-convert\" onclick=\"convertToInteractive('df-3a99d079-ff52-4075-824a-19d7d4b33315')\"\n",
              "              title=\"Convert this dataframe to an interactive table.\"\n",
              "              style=\"display:none;\">\n",
              "        \n",
              "  <svg xmlns=\"http://www.w3.org/2000/svg\" height=\"24px\"viewBox=\"0 0 24 24\"\n",
              "       width=\"24px\">\n",
              "    <path d=\"M0 0h24v24H0V0z\" fill=\"none\"/>\n",
              "    <path d=\"M18.56 5.44l.94 2.06.94-2.06 2.06-.94-2.06-.94-.94-2.06-.94 2.06-2.06.94zm-11 1L8.5 8.5l.94-2.06 2.06-.94-2.06-.94L8.5 2.5l-.94 2.06-2.06.94zm10 10l.94 2.06.94-2.06 2.06-.94-2.06-.94-.94-2.06-.94 2.06-2.06.94z\"/><path d=\"M17.41 7.96l-1.37-1.37c-.4-.4-.92-.59-1.43-.59-.52 0-1.04.2-1.43.59L10.3 9.45l-7.72 7.72c-.78.78-.78 2.05 0 2.83L4 21.41c.39.39.9.59 1.41.59.51 0 1.02-.2 1.41-.59l7.78-7.78 2.81-2.81c.8-.78.8-2.07 0-2.86zM5.41 20L4 18.59l7.72-7.72 1.47 1.35L5.41 20z\"/>\n",
              "  </svg>\n",
              "      </button>\n",
              "      \n",
              "  <style>\n",
              "    .colab-df-container {\n",
              "      display:flex;\n",
              "      flex-wrap:wrap;\n",
              "      gap: 12px;\n",
              "    }\n",
              "\n",
              "    .colab-df-convert {\n",
              "      background-color: #E8F0FE;\n",
              "      border: none;\n",
              "      border-radius: 50%;\n",
              "      cursor: pointer;\n",
              "      display: none;\n",
              "      fill: #1967D2;\n",
              "      height: 32px;\n",
              "      padding: 0 0 0 0;\n",
              "      width: 32px;\n",
              "    }\n",
              "\n",
              "    .colab-df-convert:hover {\n",
              "      background-color: #E2EBFA;\n",
              "      box-shadow: 0px 1px 2px rgba(60, 64, 67, 0.3), 0px 1px 3px 1px rgba(60, 64, 67, 0.15);\n",
              "      fill: #174EA6;\n",
              "    }\n",
              "\n",
              "    [theme=dark] .colab-df-convert {\n",
              "      background-color: #3B4455;\n",
              "      fill: #D2E3FC;\n",
              "    }\n",
              "\n",
              "    [theme=dark] .colab-df-convert:hover {\n",
              "      background-color: #434B5C;\n",
              "      box-shadow: 0px 1px 3px 1px rgba(0, 0, 0, 0.15);\n",
              "      filter: drop-shadow(0px 1px 2px rgba(0, 0, 0, 0.3));\n",
              "      fill: #FFFFFF;\n",
              "    }\n",
              "  </style>\n",
              "\n",
              "      <script>\n",
              "        const buttonEl =\n",
              "          document.querySelector('#df-3a99d079-ff52-4075-824a-19d7d4b33315 button.colab-df-convert');\n",
              "        buttonEl.style.display =\n",
              "          google.colab.kernel.accessAllowed ? 'block' : 'none';\n",
              "\n",
              "        async function convertToInteractive(key) {\n",
              "          const element = document.querySelector('#df-3a99d079-ff52-4075-824a-19d7d4b33315');\n",
              "          const dataTable =\n",
              "            await google.colab.kernel.invokeFunction('convertToInteractive',\n",
              "                                                     [key], {});\n",
              "          if (!dataTable) return;\n",
              "\n",
              "          const docLinkHtml = 'Like what you see? Visit the ' +\n",
              "            '<a target=\"_blank\" href=https://colab.research.google.com/notebooks/data_table.ipynb>data table notebook</a>'\n",
              "            + ' to learn more about interactive tables.';\n",
              "          element.innerHTML = '';\n",
              "          dataTable['output_type'] = 'display_data';\n",
              "          await google.colab.output.renderOutput(dataTable, element);\n",
              "          const docLink = document.createElement('div');\n",
              "          docLink.innerHTML = docLinkHtml;\n",
              "          element.appendChild(docLink);\n",
              "        }\n",
              "      </script>\n",
              "    </div>\n",
              "  </div>\n",
              "  "
            ]
          },
          "metadata": {},
          "execution_count": 17
        }
      ]
    },
    {
      "cell_type": "markdown",
      "source": [
        "a) Linear regression model"
      ],
      "metadata": {
        "id": "NW5pBtlF1V3C"
      }
    },
    {
      "cell_type": "code",
      "source": [
        "model = ols('BrakeHorsepower ~ RPM + RoadOctaneNumber + Compression', data3). fit()\n",
        "print(model.summary())"
      ],
      "metadata": {
        "colab": {
          "base_uri": "https://localhost:8080/"
        },
        "id": "SbD83Msg0DOO",
        "outputId": "c2815815-3041-4da1-ba4d-917a5ee5c7a7"
      },
      "execution_count": null,
      "outputs": [
        {
          "output_type": "stream",
          "name": "stdout",
          "text": [
            "                            OLS Regression Results                            \n",
            "==============================================================================\n",
            "Dep. Variable:        BrakeHorsepower   R-squared:                       0.807\n",
            "Model:                            OLS   Adj. R-squared:                  0.734\n",
            "Method:                 Least Squares   F-statistic:                     11.12\n",
            "Date:                Thu, 22 Sep 2022   Prob (F-statistic):            0.00317\n",
            "Time:                        20:12:44   Log-Likelihood:                -40.708\n",
            "No. Observations:                  12   AIC:                             89.42\n",
            "Df Residuals:                       8   BIC:                             91.36\n",
            "Df Model:                           3                                         \n",
            "Covariance Type:            nonrobust                                         \n",
            "====================================================================================\n",
            "                       coef    std err          t      P>|t|      [0.025      0.975]\n",
            "------------------------------------------------------------------------------------\n",
            "Intercept         -266.0312     92.674     -2.871      0.021    -479.737     -52.325\n",
            "RPM                  0.0107      0.004      2.390      0.044       0.000       0.021\n",
            "RoadOctaneNumber     3.1348      0.844      3.712      0.006       1.188       5.082\n",
            "Compression          1.8674      0.535      3.494      0.008       0.635       3.100\n",
            "==============================================================================\n",
            "Omnibus:                        0.392   Durbin-Watson:                   1.043\n",
            "Prob(Omnibus):                  0.822   Jarque-Bera (JB):                0.230\n",
            "Skew:                          -0.282   Prob(JB):                        0.891\n",
            "Kurtosis:                       2.625   Cond. No.                     9.03e+04\n",
            "==============================================================================\n",
            "\n",
            "Notes:\n",
            "[1] Standard Errors assume that the covariance matrix of the errors is correctly specified.\n",
            "[2] The condition number is large, 9.03e+04. This might indicate that there are\n",
            "strong multicollinearity or other numerical problems.\n"
          ]
        },
        {
          "output_type": "stream",
          "name": "stderr",
          "text": [
            "/usr/local/lib/python3.7/dist-packages/scipy/stats/stats.py:1542: UserWarning: kurtosistest only valid for n>=20 ... continuing anyway, n=12\n",
            "  \"anyway, n=%i\" % int(n))\n"
          ]
        }
      ]
    },
    {
      "cell_type": "markdown",
      "source": [
        "b) Conclusions I can draw is this data is that it is significant as the P value in the data. The P value of 0.00317 is greater than a confidance level of 95%."
      ],
      "metadata": {
        "id": "QOfe8wZM1fy0"
      }
    },
    {
      "cell_type": "markdown",
      "source": [
        "c) Yes you need all 3 regressors. The low P values meet a confidence level of 95%, therefore it is significant to the data."
      ],
      "metadata": {
        "id": "iIZFAatd2T6X"
      }
    }
  ]
}